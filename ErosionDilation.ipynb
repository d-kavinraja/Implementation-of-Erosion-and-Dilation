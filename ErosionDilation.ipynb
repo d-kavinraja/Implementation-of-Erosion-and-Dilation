{
 "cells": [
  {
   "cell_type": "code",
   "execution_count": null,
   "metadata": {},
   "outputs": [],
   "source": [
    "# Import the necessary packages\n",
    "import cv2\n",
    "import numpy as np\n",
    "from matplotlib import pyplot as plt\n",
    "# Load the image\n",
    "img1=np.zeros((100,500),dtype='uint8')\n",
    "font=cv2.FONT_HERSHEY_COMPLEX_SMALL"
   ]
  },
  {
   "cell_type": "code",
   "execution_count": null,
   "metadata": {},
   "outputs": [],
   "source": [
    "# Create the text using cv2.putText\n",
    "cv2.putText(img1,'Kavinraja.D' ,(5,70),font,3.3,(255),5,cv2.LINE_AA)\n",
    "plt.imshow(img1,cmap='gray')\n"
   ]
  },
  {
   "cell_type": "code",
   "execution_count": null,
   "metadata": {},
   "outputs": [],
   "source": [
    "# Create the structuring element\n",
    "kernel1=cv2.getStructuringElement(cv2.MORPH_CROSS,(7,7))\n"
   ]
  },
  {
   "cell_type": "code",
   "execution_count": null,
   "metadata": {},
   "outputs": [],
   "source": [
    "# Erode the image\n",
    "img_erode=cv2.erode(img1,kernel1)\n",
    "plt.imshow(img_erode,cmap='gray')\n"
   ]
  },
  {
   "cell_type": "code",
   "execution_count": null,
   "metadata": {},
   "outputs": [],
   "source": [
    "# Dilate the image\n",
    "\n",
    "img_dilate=cv2.dilate(img1,kernel1)\n",
    "plt.imshow(img_dilate,cmap='gray')\n",
    "\n",
    "\n"
   ]
  }
 ],
 "metadata": {
  "kernelspec": {
   "display_name": "Python 3",
   "language": "python",
   "name": "python3"
  },
  "language_info": {
   "codemirror_mode": {
    "name": "ipython",
    "version": 3
   },
   "file_extension": ".py",
   "mimetype": "text/x-python",
   "name": "python",
   "nbconvert_exporter": "python",
   "pygments_lexer": "ipython3",
   "version": "3.11.0"
  }
 },
 "nbformat": 4,
 "nbformat_minor": 4
}
